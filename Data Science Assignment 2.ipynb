{
 "cells": [
  {
   "cell_type": "markdown",
   "id": "9374a30a",
   "metadata": {},
   "source": [
    "# Data Science Assignment 2 "
   ]
  },
  {
   "cell_type": "markdown",
   "id": "4ea458bc",
   "metadata": {},
   "source": [
    "By: Lim Yu Jin"
   ]
  },
  {
   "cell_type": "markdown",
   "id": "9eafc041",
   "metadata": {},
   "source": [
    "# Introduction"
   ]
  },
  {
   "cell_type": "markdown",
   "id": "e5af0f70",
   "metadata": {},
   "source": [
    "In this assignment, I am going to conduct predictive analytics, through machine learning. Also, Conduct binary classification using Random Forest and Decision Tree and linear regression for prediction."
   ]
  },
  {
   "cell_type": "markdown",
   "id": "96b9c38f",
   "metadata": {},
   "source": [
    "# Question 1"
   ]
  },
  {
   "cell_type": "code",
   "execution_count": 27,
   "id": "35abeb44",
   "metadata": {},
   "outputs": [],
   "source": [
    "import numpy as np\n",
    "import pandas as pd\n",
    "import matplotlib.pyplot as plt"
   ]
  },
  {
   "cell_type": "code",
   "execution_count": 28,
   "id": "787d8336",
   "metadata": {},
   "outputs": [],
   "source": [
    "loan = pd.read_csv('loan_data.csv')"
   ]
  },
  {
   "cell_type": "code",
   "execution_count": 63,
   "id": "1fa5bb12",
   "metadata": {},
   "outputs": [
    {
     "data": {
      "text/html": [
       "<div>\n",
       "<style scoped>\n",
       "    .dataframe tbody tr th:only-of-type {\n",
       "        vertical-align: middle;\n",
       "    }\n",
       "\n",
       "    .dataframe tbody tr th {\n",
       "        vertical-align: top;\n",
       "    }\n",
       "\n",
       "    .dataframe thead th {\n",
       "        text-align: right;\n",
       "    }\n",
       "</style>\n",
       "<table border=\"1\" class=\"dataframe\">\n",
       "  <thead>\n",
       "    <tr style=\"text-align: right;\">\n",
       "      <th></th>\n",
       "      <th>credit.policy</th>\n",
       "      <th>int.rate</th>\n",
       "      <th>installment</th>\n",
       "      <th>log.annual.inc</th>\n",
       "      <th>dti</th>\n",
       "      <th>fico</th>\n",
       "      <th>days.with.cr.line</th>\n",
       "      <th>revol.bal</th>\n",
       "      <th>revol.util</th>\n",
       "      <th>inq.last.6mths</th>\n",
       "      <th>delinq.2yrs</th>\n",
       "      <th>pub.rec</th>\n",
       "      <th>not.fully.paid</th>\n",
       "    </tr>\n",
       "  </thead>\n",
       "  <tbody>\n",
       "    <tr>\n",
       "      <th>0</th>\n",
       "      <td>1</td>\n",
       "      <td>0.1189</td>\n",
       "      <td>829.10</td>\n",
       "      <td>11.350407</td>\n",
       "      <td>19.48</td>\n",
       "      <td>737</td>\n",
       "      <td>5639.958333</td>\n",
       "      <td>28854</td>\n",
       "      <td>52.1</td>\n",
       "      <td>0</td>\n",
       "      <td>0</td>\n",
       "      <td>0</td>\n",
       "      <td>0</td>\n",
       "    </tr>\n",
       "    <tr>\n",
       "      <th>1</th>\n",
       "      <td>1</td>\n",
       "      <td>0.1071</td>\n",
       "      <td>228.22</td>\n",
       "      <td>11.082143</td>\n",
       "      <td>14.29</td>\n",
       "      <td>707</td>\n",
       "      <td>2760.000000</td>\n",
       "      <td>33623</td>\n",
       "      <td>76.7</td>\n",
       "      <td>0</td>\n",
       "      <td>0</td>\n",
       "      <td>0</td>\n",
       "      <td>0</td>\n",
       "    </tr>\n",
       "    <tr>\n",
       "      <th>2</th>\n",
       "      <td>1</td>\n",
       "      <td>0.1357</td>\n",
       "      <td>366.86</td>\n",
       "      <td>10.373491</td>\n",
       "      <td>11.63</td>\n",
       "      <td>682</td>\n",
       "      <td>4710.000000</td>\n",
       "      <td>3511</td>\n",
       "      <td>25.6</td>\n",
       "      <td>1</td>\n",
       "      <td>0</td>\n",
       "      <td>0</td>\n",
       "      <td>0</td>\n",
       "    </tr>\n",
       "    <tr>\n",
       "      <th>3</th>\n",
       "      <td>1</td>\n",
       "      <td>0.1008</td>\n",
       "      <td>162.34</td>\n",
       "      <td>11.350407</td>\n",
       "      <td>8.10</td>\n",
       "      <td>712</td>\n",
       "      <td>2699.958333</td>\n",
       "      <td>33667</td>\n",
       "      <td>73.2</td>\n",
       "      <td>1</td>\n",
       "      <td>0</td>\n",
       "      <td>0</td>\n",
       "      <td>0</td>\n",
       "    </tr>\n",
       "    <tr>\n",
       "      <th>4</th>\n",
       "      <td>1</td>\n",
       "      <td>0.1426</td>\n",
       "      <td>102.92</td>\n",
       "      <td>11.299732</td>\n",
       "      <td>14.97</td>\n",
       "      <td>667</td>\n",
       "      <td>4066.000000</td>\n",
       "      <td>4740</td>\n",
       "      <td>39.5</td>\n",
       "      <td>0</td>\n",
       "      <td>1</td>\n",
       "      <td>0</td>\n",
       "      <td>0</td>\n",
       "    </tr>\n",
       "  </tbody>\n",
       "</table>\n",
       "</div>"
      ],
      "text/plain": [
       "   credit.policy  int.rate  installment  log.annual.inc    dti  fico  \\\n",
       "0              1    0.1189       829.10       11.350407  19.48   737   \n",
       "1              1    0.1071       228.22       11.082143  14.29   707   \n",
       "2              1    0.1357       366.86       10.373491  11.63   682   \n",
       "3              1    0.1008       162.34       11.350407   8.10   712   \n",
       "4              1    0.1426       102.92       11.299732  14.97   667   \n",
       "\n",
       "   days.with.cr.line  revol.bal  revol.util  inq.last.6mths  delinq.2yrs  \\\n",
       "0        5639.958333      28854        52.1               0            0   \n",
       "1        2760.000000      33623        76.7               0            0   \n",
       "2        4710.000000       3511        25.6               1            0   \n",
       "3        2699.958333      33667        73.2               1            0   \n",
       "4        4066.000000       4740        39.5               0            1   \n",
       "\n",
       "   pub.rec  not.fully.paid  \n",
       "0        0               0  \n",
       "1        0               0  \n",
       "2        0               0  \n",
       "3        0               0  \n",
       "4        0               0  "
      ]
     },
     "execution_count": 63,
     "metadata": {},
     "output_type": "execute_result"
    }
   ],
   "source": [
    "#showing the loan_data file\n",
    "loan.head()"
   ]
  },
  {
   "cell_type": "code",
   "execution_count": 64,
   "id": "b115e378",
   "metadata": {},
   "outputs": [
    {
     "data": {
      "text/plain": [
       "<AxesSubplot:ylabel='Frequency'>"
      ]
     },
     "execution_count": 64,
     "metadata": {},
     "output_type": "execute_result"
    },
    {
     "data": {
      "image/png": "[encoded data removed]",
      "text/plain": [
       "<Figure size 432x288 with 1 Axes>"
      ]
     },
     "metadata": {
      "needs_background": "light"
     },
     "output_type": "display_data"
    }
   ],
   "source": [
    "#plotting a stacked histogram of the borrowers which have fully paid and not fully paid\n",
    "loan.pivot(columns='not.fully.paid').fico.plot(kind = 'hist', stacked=True, bins = 10)"
   ]
  },
  {
   "cell_type": "code",
   "execution_count": 31,
   "id": "33877fe8",
   "metadata": {},
   "outputs": [
    {
     "data": {
      "text/plain": [
       "<AxesSubplot:xlabel='fico', ylabel='int.rate'>"
      ]
     },
     "execution_count": 31,
     "metadata": {},
     "output_type": "execute_result"
    },
    {
     "data": {
      "image/png": "[encoded data removed]",
      "text/plain": [
       "<Figure size 432x288 with 1 Axes>"
      ]
     },
     "metadata": {
      "needs_background": "light"
     },
     "output_type": "display_data"
    }
   ],
   "source": [
    "loan.plot.scatter(x = 'fico', y = 'int.rate')"
   ]
  },
  {
   "cell_type": "markdown",
   "id": "716d4582",
   "metadata": {},
   "source": [
    "From the diagram above, we can see that the higher the credit score of the borrower, the lower assigned interest rate. "
   ]
  },
  {
   "cell_type": "markdown",
   "id": "69d11a0a",
   "metadata": {},
   "source": [
    "Supervised machine learning is used by humans to teach the machine to learn the information by giving it the correct answer. For example, to let a machine how to differentiate dog and cat humans need to provide them several pictures of dog and cat and tell them the answers. By doing this, the machine will be able to detect the characteristics of them and can differentiate by themselves."
   ]
  },
  {
   "cell_type": "markdown",
   "id": "96ae7913",
   "metadata": {},
   "source": [
    "By using the example above, labelled data means that the answers are provided. Such as, we provide the picture of a dog to the machine and tell it that this is a dog."
   ]
  },
  {
   "cell_type": "markdown",
   "id": "9c00220e",
   "metadata": {},
   "source": [
    "Training datasets are the data that be used to train the machine which is let the machine to learn. Testing datasets are use to check how good the machine learns, which is like a exam to the machine after they have learned. The testing datasets can give uus the precision, accuracy, Negative Predictive value, specificity and sensitivity of the machine."
   ]
  },
  {
   "cell_type": "code",
   "execution_count": 66,
   "id": "4f9c900f",
   "metadata": {},
   "outputs": [
    {
     "data": {
      "text/html": [
       "<div>\n",
       "<style scoped>\n",
       "    .dataframe tbody tr th:only-of-type {\n",
       "        vertical-align: middle;\n",
       "    }\n",
       "\n",
       "    .dataframe tbody tr th {\n",
       "        vertical-align: top;\n",
       "    }\n",
       "\n",
       "    .dataframe thead th {\n",
       "        text-align: right;\n",
       "    }\n",
       "</style>\n",
       "<table border=\"1\" class=\"dataframe\">\n",
       "  <thead>\n",
       "    <tr style=\"text-align: right;\">\n",
       "      <th></th>\n",
       "      <th>fico</th>\n",
       "      <th>int.rate</th>\n",
       "      <th>not.fully.paid</th>\n",
       "    </tr>\n",
       "  </thead>\n",
       "  <tbody>\n",
       "    <tr>\n",
       "      <th>0</th>\n",
       "      <td>737</td>\n",
       "      <td>0.1189</td>\n",
       "      <td>0</td>\n",
       "    </tr>\n",
       "    <tr>\n",
       "      <th>1</th>\n",
       "      <td>707</td>\n",
       "      <td>0.1071</td>\n",
       "      <td>0</td>\n",
       "    </tr>\n",
       "    <tr>\n",
       "      <th>2</th>\n",
       "      <td>682</td>\n",
       "      <td>0.1357</td>\n",
       "      <td>0</td>\n",
       "    </tr>\n",
       "    <tr>\n",
       "      <th>3</th>\n",
       "      <td>712</td>\n",
       "      <td>0.1008</td>\n",
       "      <td>0</td>\n",
       "    </tr>\n",
       "    <tr>\n",
       "      <th>4</th>\n",
       "      <td>667</td>\n",
       "      <td>0.1426</td>\n",
       "      <td>0</td>\n",
       "    </tr>\n",
       "    <tr>\n",
       "      <th>...</th>\n",
       "      <td>...</td>\n",
       "      <td>...</td>\n",
       "      <td>...</td>\n",
       "    </tr>\n",
       "    <tr>\n",
       "      <th>9573</th>\n",
       "      <td>672</td>\n",
       "      <td>0.1461</td>\n",
       "      <td>1</td>\n",
       "    </tr>\n",
       "    <tr>\n",
       "      <th>9574</th>\n",
       "      <td>722</td>\n",
       "      <td>0.1253</td>\n",
       "      <td>1</td>\n",
       "    </tr>\n",
       "    <tr>\n",
       "      <th>9575</th>\n",
       "      <td>687</td>\n",
       "      <td>0.1071</td>\n",
       "      <td>1</td>\n",
       "    </tr>\n",
       "    <tr>\n",
       "      <th>9576</th>\n",
       "      <td>692</td>\n",
       "      <td>0.1600</td>\n",
       "      <td>1</td>\n",
       "    </tr>\n",
       "    <tr>\n",
       "      <th>9577</th>\n",
       "      <td>732</td>\n",
       "      <td>0.1392</td>\n",
       "      <td>1</td>\n",
       "    </tr>\n",
       "  </tbody>\n",
       "</table>\n",
       "<p>9578 rows × 3 columns</p>\n",
       "</div>"
      ],
      "text/plain": [
       "      fico  int.rate  not.fully.paid\n",
       "0      737    0.1189               0\n",
       "1      707    0.1071               0\n",
       "2      682    0.1357               0\n",
       "3      712    0.1008               0\n",
       "4      667    0.1426               0\n",
       "...    ...       ...             ...\n",
       "9573   672    0.1461               1\n",
       "9574   722    0.1253               1\n",
       "9575   687    0.1071               1\n",
       "9576   692    0.1600               1\n",
       "9577   732    0.1392               1\n",
       "\n",
       "[9578 rows x 3 columns]"
      ]
     },
     "execution_count": 66,
     "metadata": {},
     "output_type": "execute_result"
    }
   ],
   "source": [
    "#extract the data needed and create a new dataframe to visualise it.\n",
    "#The data used is the credit scoreof the borrower(fico), the assigned interest rate(int.rae) and the mraking of who is not fully paid(not.fully.paid)\n",
    "tnt = loan[['fico','int.rate','not.fully.paid']]\n",
    "tnt"
   ]
  },
  {
   "cell_type": "code",
   "execution_count": 69,
   "id": "85faf194",
   "metadata": {},
   "outputs": [],
   "source": [
    "\"\"\"\n",
    "Separate the dataframe, the first two columns (fico,int.rate) are used to train the model,\n",
    "last column (not.fully.paid) is to give the machine the answer.\n",
    "\"\"\"\n",
    "X = tnt.iloc[:, [0, 1]].values  \n",
    "y = tnt.iloc[:, 2].values       "
   ]
  },
  {
   "cell_type": "code",
   "execution_count": 70,
   "id": "76f2e39c",
   "metadata": {},
   "outputs": [],
   "source": [
    "from sklearn.model_selection import train_test_split"
   ]
  },
  {
   "cell_type": "code",
   "execution_count": 71,
   "id": "ce86ee6c",
   "metadata": {},
   "outputs": [],
   "source": [
    "#split the data for training (80 %) and testing (20%)\n",
    "X_train, X_test, y_train, y_test = train_test_split(\n",
    "    X, y, test_size = 0.20, random_state = 0\n",
    ")"
   ]
  },
  {
   "cell_type": "markdown",
   "id": "2efae6e8",
   "metadata": {},
   "source": [
    "Binary classification is to classified the datasets into 2 classes,which is like a prediction about which of two groups the data belongs to."
   ]
  },
  {
   "cell_type": "markdown",
   "id": "4016923c",
   "metadata": {},
   "source": [
    "Multi-class classification is to classifying data into different classes, unlike the binary it doesn’t limit the number of classes."
   ]
  },
  {
   "cell_type": "code",
   "execution_count": 72,
   "id": "de9ff98c",
   "metadata": {},
   "outputs": [],
   "source": [
    "from sklearn.preprocessing import StandardScaler\n",
    "sc = StandardScaler()\n",
    "X_train = sc.fit_transform(X_train)\n",
    "X_test = sc.transform(X_test)"
   ]
  },
  {
   "cell_type": "code",
   "execution_count": 74,
   "id": "e2400cd5",
   "metadata": {},
   "outputs": [
    {
     "data": {
      "text/plain": [
       "DecisionTreeClassifier(criterion='entropy', random_state=0)"
      ]
     },
     "execution_count": 74,
     "metadata": {},
     "output_type": "execute_result"
    }
   ],
   "source": [
    "#create a decision tree for training\n",
    "from sklearn.tree import DecisionTreeClassifier\n",
    "classifier = DecisionTreeClassifier(\n",
    "    criterion = 'entropy', random_state = 0\n",
    ")\n",
    "classifier.fit(X_train, y_train)"
   ]
  },
  {
   "cell_type": "code",
   "execution_count": 75,
   "id": "3b68e747",
   "metadata": {},
   "outputs": [
    {
     "data": {
      "text/plain": [
       "(array([[-0.63489632, -0.13322427],\n",
       "        [-0.1073566 , -0.01384841],\n",
       "        [-1.03055111,  1.75440663],\n",
       "        ...,\n",
       "        [-0.89866618,  0.69494581],\n",
       "        [-0.50301139,  0.59795291],\n",
       "        [ 1.07960776, -0.78606105]]),\n",
       " array([0, 0, 0, ..., 0, 1, 0], dtype=int64))"
      ]
     },
     "execution_count": 75,
     "metadata": {},
     "output_type": "execute_result"
    }
   ],
   "source": [
    "X_train, y_train\n",
    "X_test, y_test"
   ]
  },
  {
   "cell_type": "code",
   "execution_count": 77,
   "id": "fe201c5b",
   "metadata": {},
   "outputs": [],
   "source": [
    "#Let the model to predict the answer\n",
    "y_pred = classifier.predict(X_test)"
   ]
  },
  {
   "cell_type": "code",
   "execution_count": 78,
   "id": "54ee36ef",
   "metadata": {},
   "outputs": [
    {
     "data": {
      "text/plain": [
       "array([[1523,   92],\n",
       "       [ 279,   22]], dtype=int64)"
      ]
     },
     "execution_count": 78,
     "metadata": {},
     "output_type": "execute_result"
    }
   ],
   "source": [
    "#Form a confusion metrics to check its efficiency\n",
    "from sklearn.metrics import confusion_matrix\n",
    "cm = confusion_matrix(y_test, y_pred)\n",
    "cm"
   ]
  },
  {
   "cell_type": "code",
   "execution_count": 79,
   "id": "cda19571",
   "metadata": {},
   "outputs": [
    {
     "data": {
      "text/plain": [
       "0.8063674321503131"
      ]
     },
     "execution_count": 79,
     "metadata": {},
     "output_type": "execute_result"
    }
   ],
   "source": [
    "#Let us see the accurcy of this decision tree\n",
    "from sklearn.metrics import accuracy_score\n",
    "accuracy_score(y_test, y_pred)"
   ]
  },
  {
   "cell_type": "code",
   "execution_count": 80,
   "id": "c81d127c",
   "metadata": {},
   "outputs": [
    {
     "data": {
      "text/plain": [
       "array([[1530,   85],\n",
       "       [ 282,   19]], dtype=int64)"
      ]
     },
     "execution_count": 80,
     "metadata": {},
     "output_type": "execute_result"
    }
   ],
   "source": [
    "#Create a random forest for training\n",
    "from sklearn.ensemble import RandomForestClassifier\n",
    "rfclassifier = RandomForestClassifier(\n",
    "    n_estimators = 2000,\n",
    "    criterion = 'entropy',\n",
    "    random_state = 0\n",
    ")\n",
    "rfclassifier.fit(X_train, y_train)\n",
    "\n",
    "y1_pred = rfclassifier.predict(X_test)\n",
    "\n",
    "from sklearn.metrics import confusion_matrix\n",
    "cm1 = confusion_matrix(y_test, y1_pred)\n",
    "cm1"
   ]
  },
  {
   "cell_type": "code",
   "execution_count": 81,
   "id": "a86dd5d2",
   "metadata": {},
   "outputs": [
    {
     "data": {
      "text/plain": [
       "0.808455114822547"
      ]
     },
     "execution_count": 81,
     "metadata": {},
     "output_type": "execute_result"
    }
   ],
   "source": [
    "#Let us see the accuracy of this random forest\n",
    "from sklearn.metrics import accuracy_score\n",
    "accuracy_score(y_test, y1_pred)"
   ]
  },
  {
   "cell_type": "markdown",
   "id": "cea97454",
   "metadata": {},
   "source": [
    "# Conclusion"
   ]
  },
  {
   "cell_type": "markdown",
   "id": "73a68fc7",
   "metadata": {},
   "source": [
    "By comparing the accuracy of decision tree and random forest, I found out that the accuracy of random forest is higher than the accuracy of decision tree. So, the random forest is performing better in this model."
   ]
  },
  {
   "cell_type": "markdown",
   "id": "0be31a60",
   "metadata": {},
   "source": [
    "# Question 2"
   ]
  },
  {
   "cell_type": "code",
   "execution_count": 83,
   "id": "79417bac",
   "metadata": {},
   "outputs": [],
   "source": [
    "cus = pd.read_csv('Customers-shop.csv')"
   ]
  },
  {
   "cell_type": "code",
   "execution_count": 84,
   "id": "aef1a4d8",
   "metadata": {},
   "outputs": [
    {
     "data": {
      "text/html": [
       "<div>\n",
       "<style scoped>\n",
       "    .dataframe tbody tr th:only-of-type {\n",
       "        vertical-align: middle;\n",
       "    }\n",
       "\n",
       "    .dataframe tbody tr th {\n",
       "        vertical-align: top;\n",
       "    }\n",
       "\n",
       "    .dataframe thead th {\n",
       "        text-align: right;\n",
       "    }\n",
       "</style>\n",
       "<table border=\"1\" class=\"dataframe\">\n",
       "  <thead>\n",
       "    <tr style=\"text-align: right;\">\n",
       "      <th></th>\n",
       "      <th>Customer info-color Avatar</th>\n",
       "      <th>Avg. Session Length</th>\n",
       "      <th>Time on App</th>\n",
       "      <th>Time on Website</th>\n",
       "      <th>Length of Membership</th>\n",
       "      <th>Yearly Amount Spent</th>\n",
       "    </tr>\n",
       "  </thead>\n",
       "  <tbody>\n",
       "    <tr>\n",
       "      <th>0</th>\n",
       "      <td>Violet</td>\n",
       "      <td>34.497268</td>\n",
       "      <td>12.655651</td>\n",
       "      <td>39.577668</td>\n",
       "      <td>4.082621</td>\n",
       "      <td>587.951054</td>\n",
       "    </tr>\n",
       "    <tr>\n",
       "      <th>1</th>\n",
       "      <td>DarkGreen</td>\n",
       "      <td>31.926272</td>\n",
       "      <td>11.109461</td>\n",
       "      <td>37.268959</td>\n",
       "      <td>2.664034</td>\n",
       "      <td>392.204933</td>\n",
       "    </tr>\n",
       "    <tr>\n",
       "      <th>2</th>\n",
       "      <td>Bisque</td>\n",
       "      <td>33.000915</td>\n",
       "      <td>11.330278</td>\n",
       "      <td>37.110597</td>\n",
       "      <td>4.104543</td>\n",
       "      <td>487.547505</td>\n",
       "    </tr>\n",
       "    <tr>\n",
       "      <th>3</th>\n",
       "      <td>SaddleBrown</td>\n",
       "      <td>34.305557</td>\n",
       "      <td>13.717514</td>\n",
       "      <td>36.721283</td>\n",
       "      <td>3.120179</td>\n",
       "      <td>581.852344</td>\n",
       "    </tr>\n",
       "    <tr>\n",
       "      <th>4</th>\n",
       "      <td>MediumAquaMarine</td>\n",
       "      <td>33.330673</td>\n",
       "      <td>12.795189</td>\n",
       "      <td>37.536653</td>\n",
       "      <td>4.446308</td>\n",
       "      <td>599.406092</td>\n",
       "    </tr>\n",
       "  </tbody>\n",
       "</table>\n",
       "</div>"
      ],
      "text/plain": [
       "  Customer info-color Avatar  Avg. Session Length  Time on App  \\\n",
       "0                     Violet            34.497268    12.655651   \n",
       "1                  DarkGreen            31.926272    11.109461   \n",
       "2                     Bisque            33.000915    11.330278   \n",
       "3                SaddleBrown            34.305557    13.717514   \n",
       "4           MediumAquaMarine            33.330673    12.795189   \n",
       "\n",
       "   Time on Website  Length of Membership  Yearly Amount Spent  \n",
       "0        39.577668              4.082621           587.951054  \n",
       "1        37.268959              2.664034           392.204933  \n",
       "2        37.110597              4.104543           487.547505  \n",
       "3        36.721283              3.120179           581.852344  \n",
       "4        37.536653              4.446308           599.406092  "
      ]
     },
     "execution_count": 84,
     "metadata": {},
     "output_type": "execute_result"
    }
   ],
   "source": [
    "#Showing the Customer-shop file\n",
    "cus.head()"
   ]
  },
  {
   "cell_type": "code",
   "execution_count": 86,
   "id": "122e14c2",
   "metadata": {},
   "outputs": [
    {
     "data": {
      "text/plain": [
       "<AxesSubplot:xlabel='Time on Website', ylabel='Yearly Amount Spent'>"
      ]
     },
     "execution_count": 86,
     "metadata": {},
     "output_type": "execute_result"
    },
    {
     "data": {
      "image/png": "[encoded data removed]",
      "text/plain": [
       "<Figure size 432x288 with 1 Axes>"
      ]
     },
     "metadata": {
      "needs_background": "light"
     },
     "output_type": "display_data"
    }
   ],
   "source": [
    "#Visualise the relationship between the time on website and the yearly amount time spent\n",
    "cus.plot.scatter(x = 'Time on Website', y = 'Yearly Amount Spent')"
   ]
  },
  {
   "cell_type": "code",
   "execution_count": 87,
   "id": "e31c388e",
   "metadata": {},
   "outputs": [
    {
     "data": {
      "text/plain": [
       "<AxesSubplot:xlabel='Time on App', ylabel='Yearly Amount Spent'>"
      ]
     },
     "execution_count": 87,
     "metadata": {},
     "output_type": "execute_result"
    },
    {
     "data": {
      "image/png": "[encoded data removed]",
      "text/plain": [
       "<Figure size 432x288 with 1 Axes>"
      ]
     },
     "metadata": {
      "needs_background": "light"
     },
     "output_type": "display_data"
    }
   ],
   "source": [
    "cus.plot.scatter(x = 'Time on App', y = 'Yearly Amount Spent')"
   ]
  },
  {
   "cell_type": "code",
   "execution_count": 88,
   "id": "f2c0fab3",
   "metadata": {},
   "outputs": [
    {
     "data": {
      "text/html": [
       "<div>\n",
       "<style scoped>\n",
       "    .dataframe tbody tr th:only-of-type {\n",
       "        vertical-align: middle;\n",
       "    }\n",
       "\n",
       "    .dataframe tbody tr th {\n",
       "        vertical-align: top;\n",
       "    }\n",
       "\n",
       "    .dataframe thead th {\n",
       "        text-align: right;\n",
       "    }\n",
       "</style>\n",
       "<table border=\"1\" class=\"dataframe\">\n",
       "  <thead>\n",
       "    <tr style=\"text-align: right;\">\n",
       "      <th></th>\n",
       "      <th>Time on App</th>\n",
       "      <th>Time on Website</th>\n",
       "      <th>Yearly Amount Spent</th>\n",
       "    </tr>\n",
       "  </thead>\n",
       "  <tbody>\n",
       "    <tr>\n",
       "      <th>0</th>\n",
       "      <td>12.655651</td>\n",
       "      <td>39.577668</td>\n",
       "      <td>587.951054</td>\n",
       "    </tr>\n",
       "    <tr>\n",
       "      <th>1</th>\n",
       "      <td>11.109461</td>\n",
       "      <td>37.268959</td>\n",
       "      <td>392.204933</td>\n",
       "    </tr>\n",
       "    <tr>\n",
       "      <th>2</th>\n",
       "      <td>11.330278</td>\n",
       "      <td>37.110597</td>\n",
       "      <td>487.547505</td>\n",
       "    </tr>\n",
       "    <tr>\n",
       "      <th>3</th>\n",
       "      <td>13.717514</td>\n",
       "      <td>36.721283</td>\n",
       "      <td>581.852344</td>\n",
       "    </tr>\n",
       "    <tr>\n",
       "      <th>4</th>\n",
       "      <td>12.795189</td>\n",
       "      <td>37.536653</td>\n",
       "      <td>599.406092</td>\n",
       "    </tr>\n",
       "    <tr>\n",
       "      <th>...</th>\n",
       "      <td>...</td>\n",
       "      <td>...</td>\n",
       "      <td>...</td>\n",
       "    </tr>\n",
       "    <tr>\n",
       "      <th>495</th>\n",
       "      <td>13.566160</td>\n",
       "      <td>36.417985</td>\n",
       "      <td>573.847438</td>\n",
       "    </tr>\n",
       "    <tr>\n",
       "      <th>496</th>\n",
       "      <td>11.695736</td>\n",
       "      <td>37.190268</td>\n",
       "      <td>529.049004</td>\n",
       "    </tr>\n",
       "    <tr>\n",
       "      <th>497</th>\n",
       "      <td>11.499409</td>\n",
       "      <td>38.332576</td>\n",
       "      <td>551.620146</td>\n",
       "    </tr>\n",
       "    <tr>\n",
       "      <th>498</th>\n",
       "      <td>12.391423</td>\n",
       "      <td>36.840086</td>\n",
       "      <td>456.469510</td>\n",
       "    </tr>\n",
       "    <tr>\n",
       "      <th>499</th>\n",
       "      <td>12.418808</td>\n",
       "      <td>35.771016</td>\n",
       "      <td>497.778642</td>\n",
       "    </tr>\n",
       "  </tbody>\n",
       "</table>\n",
       "<p>500 rows × 3 columns</p>\n",
       "</div>"
      ],
      "text/plain": [
       "     Time on App  Time on Website  Yearly Amount Spent\n",
       "0      12.655651        39.577668           587.951054\n",
       "1      11.109461        37.268959           392.204933\n",
       "2      11.330278        37.110597           487.547505\n",
       "3      13.717514        36.721283           581.852344\n",
       "4      12.795189        37.536653           599.406092\n",
       "..           ...              ...                  ...\n",
       "495    13.566160        36.417985           573.847438\n",
       "496    11.695736        37.190268           529.049004\n",
       "497    11.499409        38.332576           551.620146\n",
       "498    12.391423        36.840086           456.469510\n",
       "499    12.418808        35.771016           497.778642\n",
       "\n",
       "[500 rows x 3 columns]"
      ]
     },
     "execution_count": 88,
     "metadata": {},
     "output_type": "execute_result"
    }
   ],
   "source": [
    "#Visualise the relationship between the time on App and the yearly amount time spent\n",
    "YAS = cus[['Time on App','Time on Website','Yearly Amount Spent']]\n",
    "YAS"
   ]
  },
  {
   "cell_type": "markdown",
   "id": "dd606926",
   "metadata": {},
   "source": [
    "Let us see is the time on App or time on website is more effecting the yearly amount of time spent"
   ]
  },
  {
   "cell_type": "code",
   "execution_count": 89,
   "id": "ca077449",
   "metadata": {},
   "outputs": [],
   "source": [
    "#Let us see what can we get for using the data of time on App\n",
    "p = YAS.iloc[:, [0]].values  \n",
    "Q = YAS.iloc[:, 2].values      "
   ]
  },
  {
   "cell_type": "code",
   "execution_count": 90,
   "id": "c98f2e78",
   "metadata": {},
   "outputs": [],
   "source": [
    "#split the data for training (70%) and testing (30%)\n",
    "p_train, p_test, Q_train, Q_test = train_test_split(\n",
    "    p, Q, test_size = 0.30, random_state = 0\n",
    ")"
   ]
  },
  {
   "cell_type": "code",
   "execution_count": 91,
   "id": "e8833297",
   "metadata": {},
   "outputs": [],
   "source": [
    "from sklearn.linear_model import LinearRegression"
   ]
  },
  {
   "cell_type": "code",
   "execution_count": 92,
   "id": "4eb47e4d",
   "metadata": {},
   "outputs": [],
   "source": [
    "#Create a linear regression model\n",
    "model = LinearRegression().fit(p_train,Q_train)"
   ]
  },
  {
   "cell_type": "code",
   "execution_count": 103,
   "id": "dd3a7369",
   "metadata": {},
   "outputs": [
    {
     "data": {
      "text/plain": [
       "array([39.1629381])"
      ]
     },
     "execution_count": 103,
     "metadata": {},
     "output_type": "execute_result"
    }
   ],
   "source": [
    "#Let us see the coefficient of the model\n",
    "model.coef_"
   ]
  },
  {
   "cell_type": "code",
   "execution_count": 104,
   "id": "6f7d98d1",
   "metadata": {},
   "outputs": [],
   "source": [
    "#Let the model to predict the outcome\n",
    "Q_pred = model.predict(p_test)"
   ]
  },
  {
   "cell_type": "code",
   "execution_count": 105,
   "id": "ac70a6ac",
   "metadata": {},
   "outputs": [
    {
     "name": "stdout",
     "output_type": "stream",
     "text": [
      "53.464035410445696\n",
      "68.14403128509161\n"
     ]
    }
   ],
   "source": [
    "#Let us see the mean absolute error and root mean square error of the model\n",
    "from sklearn import metrics\n",
    "print(metrics.mean_absolute_error(Q_test, Q_pred))\n",
    "print(np.sqrt(metrics.mean_squared_error(Q_test, Q_pred)))"
   ]
  },
  {
   "cell_type": "code",
   "execution_count": 106,
   "id": "be2ee48f",
   "metadata": {},
   "outputs": [],
   "source": [
    "#Let us see what can we get for using the data of time on Website\n",
    "R = YAS.iloc[:, [1]].values  "
   ]
  },
  {
   "cell_type": "code",
   "execution_count": 107,
   "id": "b83b3385",
   "metadata": {},
   "outputs": [],
   "source": [
    "#split the data for training (70%) and testing (30%)\n",
    "R_train, R_test, Q_train, Q_test = train_test_split(\n",
    "    R, Q, test_size = 0.30, random_state = 0\n",
    ")"
   ]
  },
  {
   "cell_type": "code",
   "execution_count": 108,
   "id": "151c4a64",
   "metadata": {},
   "outputs": [],
   "source": [
    "#Create a linear regression model\n",
    "model_1 = LinearRegression().fit(R_train,Q_train)"
   ]
  },
  {
   "cell_type": "code",
   "execution_count": 109,
   "id": "bfa5aed2",
   "metadata": {},
   "outputs": [
    {
     "data": {
      "text/plain": [
       "array([-1.58457927])"
      ]
     },
     "execution_count": 109,
     "metadata": {},
     "output_type": "execute_result"
    }
   ],
   "source": [
    "#Let us see the coefficient of the model\n",
    "model_1.coef_"
   ]
  },
  {
   "cell_type": "code",
   "execution_count": 99,
   "id": "ec42ad42",
   "metadata": {},
   "outputs": [],
   "source": [
    "#Let the model to predict the outcome\n",
    "Q1_pred = model_1.predict(R_test)"
   ]
  },
  {
   "cell_type": "code",
   "execution_count": 110,
   "id": "443495aa",
   "metadata": {},
   "outputs": [
    {
     "name": "stdout",
     "output_type": "stream",
     "text": [
      "462.76981177397886\n",
      "464.3865220092043\n"
     ]
    }
   ],
   "source": [
    "#Let us see the mean absolute error and root mean square error of the model\n",
    "print(metrics.mean_absolute_error(R_test, Q_pred))\n",
    "print(np.sqrt(metrics.mean_squared_error(R_test, Q_pred)))"
   ]
  },
  {
   "cell_type": "code",
   "execution_count": 111,
   "id": "deaf36d3",
   "metadata": {},
   "outputs": [
    {
     "data": {
      "image/png": "[encoded data removed]",
      "text/plain": [
       "<Figure size 432x288 with 1 Axes>"
      ]
     },
     "metadata": {
      "needs_background": "light"
     },
     "output_type": "display_data"
    },
    {
     "data": {
      "image/png": "[encoded data removed]",
      "text/plain": [
       "<Figure size 432x288 with 1 Axes>"
      ]
     },
     "metadata": {
      "needs_background": "light"
     },
     "output_type": "display_data"
    }
   ],
   "source": [
    "\"\"\"\n",
    "Let us scatter the predict outcome vs the truth outcome. \n",
    "Visualise the relation of time on App and total amount of time spent and\n",
    "relation of time on Website an total amount of time spent.\n",
    "See which is more affecting the total amount of time spent.\n",
    "\"\"\"\n",
    "plt.figure()\n",
    "plt.plot(Q_pred, 'x', label='prediction')\n",
    "plt.plot(Q_test,'gd',label = 'App data')\n",
    "\n",
    "plt.tick_params(axis='x', which='both', bottom=False, top=False,\n",
    "                labelbottom=False)\n",
    "plt.ylabel('predicted')\n",
    "plt.xlabel('training samples')\n",
    "plt.legend(loc=\"best\")\n",
    "plt.title('Regressor predictions and their average')\n",
    "\n",
    "plt.show()\n",
    "\n",
    "plt.figure()\n",
    "plt.plot(Q1_pred, 'x', label='prediction')\n",
    "plt.plot(Q_test,'gd',label = 'Web data')\n",
    "\n",
    "plt.tick_params(axis='x', which='both', bottom=False, top=False,\n",
    "                labelbottom=False)\n",
    "plt.ylabel('predicted')\n",
    "plt.xlabel('training samples')\n",
    "plt.legend(loc=\"best\")\n",
    "plt.title('Regressor predictions and their average')\n",
    "\n",
    "plt.show()"
   ]
  },
  {
   "cell_type": "markdown",
   "id": "bba8e2c5",
   "metadata": {},
   "source": [
    "# Conclusion"
   ]
  },
  {
   "cell_type": "markdown",
   "id": "8352d6e0",
   "metadata": {},
   "source": [
    "In this case, we saw can saw that the Time on App is more important for increasing the yearly-amount-spent.So, it is better for the company to focus their efforts on their mobile app."
   ]
  }
 ],
 "metadata": {
  "kernelspec": {
   "display_name": "Python 3",
   "language": "python",
   "name": "python3"
  },
  "language_info": {
   "codemirror_mode": {
    "name": "ipython",
    "version": 3
   },
   "file_extension": ".py",
   "mimetype": "text/x-python",
   "name": "python",
   "nbconvert_exporter": "python",
   "pygments_lexer": "ipython3",
   "version": "3.8.8"
  }
 },
 "nbformat": 4,
 "nbformat_minor": 5
}
