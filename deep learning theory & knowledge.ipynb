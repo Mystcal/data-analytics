{
 "cells": [
  {
   "cell_type": "markdown",
   "id": "85398b33-3b67-4699-bf4f-99fb4dbef6b1",
   "metadata": {},
   "source": [
    "# <span style=\"color:#0b486b\">FIT3181 S2 2023 - ASSIGNMENT 1</span>\n",
    "\n",
    "<font size=\"+1\">Due: <span style=\"color:red\">[11:59pm, 08 September 2023]</span>  (Friday)</font>\n",
    "\n",
    "<font size=\"+1\">**Important note:**</font> This is an **individual** assignment. It contributes **25%** to your final mark. Read the assignment instruction carefully."
   ]
  },
  {
   "cell_type": "markdown",
   "id": "a6046830-b520-4f6f-a08e-bba5ede331fe",
   "metadata": {},
   "source": [
    "# <span style=\"color:#0b486b\">  Student Information</span>\n",
    "***\n",
    "Surname: **LIM**  <br/>\n",
    "Firstname: **YU JIN**    <br/>\n",
    "Student ID: **32637888**    <br/>\n",
    "Email: **ylim0076@student.monash.edu**    <br/>\n",
    "Your tutorial time: **FRIDAY 8AM**    <br/>\n",
    "***"
   ]
  },
  {
   "cell_type": "markdown",
   "id": "cce83d4f-48ef-426a-80dd-a03a3aa4ac06",
   "metadata": {},
   "source": [
    "## <span style=\"color:#0b486b\">Instruction</span>\n",
    "\n",
    "This notebook has been prepared for your to complete Assignment 1. The theme of this assignment is about practical machine learning knowledge and skills in deep neural networks, including feedforward and convolutional neural networks. Some sections have been partially completed to help you get\n",
    "started. **The total marks for this notebook is 100**.\n",
    "\n",
    "* Before you start, read the entire notebook carefully once to understand what you need to do. <br/>\n",
    "\n",
    "* For each cell marked with **#YOU ARE REQUIRED TO INSERT YOUR CODES IN THIS CELL** or **INSERT YOUR CODES IN THIS CELL**, there will be places where you **must** supply your own codes when instructed. <br>\n",
    "\n",
    "This assignment contains **three** parts:\n",
    "\n",
    "* Part 1: Questions on theory and knowledge on machine learning and deep learning **[30 points]**\n",
    "* Part 2: Coding assessment on TensorFlow for Deep Neural Networks (DNN) **[30 points]**\n",
    "* Part 3: Coding assessment on TensorFlow for Convolution Neural Networks (CNN) **[40 points]**\n",
    "\n",
    "**Hint**: This assignment was essentially designed based on the lectures and tutorials sessions covered from Week 1 to Week 5. You are strongly recommended to go through these contents thoroughly which might help you to complete this assignment."
   ]
  },
  {
   "cell_type": "markdown",
   "id": "cc31af24-7213-49f5-99b9-669c185735cc",
   "metadata": {},
   "source": [
    "## <span style=\"color:#0b486b\">What to submit</span>\n",
    "\n",
    "This assignment is to be completed individually and submitted to Moodle unit site. **By the due date, you are required to submit one  <span style=\"color:red; font-weight:bold\">single zip file, named xxx_assignment01_solution.zip</span> where `xxx` is your student ID, to the corresponding Assignment (Dropbox) in Moodle**. \n",
    "\n",
    "***For example, if your student ID is <span style=\"color:red; font-weight:bold\">12356</span>, then gather all of your assignment solution to folder, create a zip file named <span style=\"color:red; font-weight:bold\">123456_assignment01_solution.zip</span> and submit this file.***\n",
    "\n",
    "Within this zip folder, you **must** submit the following files:\n",
    "\n",
    "1. **A1_Part1_Solutions.ipynb, A1_Part2_Solutions.ipynb, A1_Part3_Solutions.ipynb**: these are your Python notebook solution source files.\n",
    "2. **A1_Part1_Solutions.html, A1_Part2_Solutions.html, A1_Part3_Solutions.html**: these are the output of your Python notebook solution *exported* in HTML format.\n",
    "3. Any **extra files or folder** needed to complete your assignment (e.g., images used in your answers).\n",
    "\n",
    "**You can run your codes on Google Colab. In this case, you need to capture the screenshots of your Google Colab model training and put in corresponding places in your Jupyter notebooks. You also need to store your trained models to folder <span style=\"color:red; font-weight:bold\">*./models*</span> with recognizable file names (e.g., Part3_Sec3_2_model.h5).**"
   ]
  },
  {
   "cell_type": "markdown",
   "id": "97f83e10-3989-4235-a3ef-4cce62a57e39",
   "metadata": {},
   "source": [
    "## <span style=\"color:#0b486b\">Part 1: Theory and Knowledge Questions</span>\n",
    "<div style=\"text-align: right\"><span style=\"color:red\">[Total marks for this part: 30 points]</span></div>"
   ]
  },
  {
   "cell_type": "markdown",
   "id": "61388bef-2a30-4ecb-ae19-2713b7507936",
   "metadata": {},
   "source": [
    "The first part of this assignment is for you to demonstrate your knowledge in deep learning that you have acquired from the lectures and tutorials materials. Most of the contents in this assignment are drawn from **the lectures and labs from weeks 1 to 2**. Going through these materials before attempting this part is highly recommended.\n",
    "\n",
    "**Numpy** is possibly being used in the following questions. You need to import it here."
   ]
  },
  {
   "cell_type": "code",
   "execution_count": 1,
   "id": "65effb9f-5798-43ae-82f6-71700b5e4728",
   "metadata": {
    "tags": []
   },
   "outputs": [],
   "source": [
    "import numpy as np\n",
    "import tensorflow as tf\n",
    "from tensorflow import keras\n",
    "from tensorflow.keras import datasets, models, layers\n",
    "from tensorflow.keras.callbacks import ModelCheckpoint\n",
    "import matplotlib.pyplot as plt\n",
    "import os\n",
    "%matplotlib inline\n",
    "np.random.seed(123)\n",
    "tf.random.set_seed(123)"
   ]
  },
  {
   "cell_type": "markdown",
   "id": "3f3947be-76c2-48ae-9d0d-d44a0565e6dc",
   "metadata": {
    "tags": []
   },
   "source": [
    "### <span style=\"color:#0b486b\">Question 1.1: Activation Functions</span>\n",
    "Activation function plays an important role in modern Deep NNs. In this question, we will explore some of them to get deeper understanding of their characteristics and their advantages.\n",
    "\n",
    "**(a)** Given the Exponential Linear Unit activation function: $$\\text{ELU}\\left(x\\right)=\\begin{cases}\\alpha\\,(e^x-1) & \\text{if}\\,x<0\\ (\\alpha\\ \\text{is a hyper-parameter})\\\\x & \\text{otherwise}\\end{cases}$$\n",
    "\n",
    "State its output range, find its derivative (show your steps), and plot the activation fuction and its derivative.\n",
    "<div style=\"text-align: right\"><span style=\"color:red\">[2 points]</span></div>\n",
    "\n",
    "**(b)** In literature, there are a wide range of activation functions that have been proposed. Do a research and select two (2) activation functions that were not discussed in the lecture (including `ReLU`, `sigmoid`, and `tanh`). For each of the selected activation function, do the following:\n",
    "\n",
    "- Find the research paper which propose the activation function.\n",
    "- Write a brief summary of the author's motivation which leads to the activation function (max 150 words).\n",
    "- Write a brief summary of advantages of the activation function (max 150 words).\n",
    "\n",
    "<div style=\"text-align: right\"><span style=\"color:red\">[6 points]</span></div>"
   ]
  },
  {
   "cell_type": "markdown",
   "id": "fdeb4d1c",
   "metadata": {},
   "source": [
    "(a) Define the ELU activation function as a TensorFlow function"
   ]
  },
  {
   "cell_type": "code",
   "execution_count": 2,
   "id": "64ff4f0a",
   "metadata": {},
   "outputs": [],
   "source": [
    "def elu(z,alpha=1):\n",
    "    return tf.where(z<0,alpha*(tf.math.exp(z)-1),z)"
   ]
  },
  {
   "cell_type": "markdown",
   "id": "d50f3dad",
   "metadata": {},
   "source": [
    "derivation of the ELU function:\n",
    "\n",
    "ELU = { a(e^x-1), x<0 ; \n",
    "            x   , x >= 0\n",
    "      }\n",
    "\n",
    "d/dx(ELU) = { ae^x , x < 0 ;\n",
    "                1 , x >= 0 \n",
    "            }"
   ]
  },
  {
   "cell_type": "markdown",
   "id": "0c40d642",
   "metadata": {},
   "source": [
    "Plot of the ELU activation function:"
   ]
  },
  {
   "cell_type": "code",
   "execution_count": 3,
   "id": "5fd828c8",
   "metadata": {},
   "outputs": [
    {
     "data": {
      "image/png": "[encoded data removed]",
      "text/plain": [
       "<Figure size 640x480 with 1 Axes>"
      ]
     },
     "metadata": {},
     "output_type": "display_data"
    }
   ],
   "source": [
    "z = np.linspace(-5, 5, 200)\n",
    "plt.plot(z, elu(z), \"b-\", linewidth=2)\n",
    "plt.plot([-5, 5], [0, 0], 'k-')\n",
    "plt.plot([-5, 5], [-1, -1], 'k--')\n",
    "plt.plot([0, 0], [-5, 5], 'k-')\n",
    "plt.grid(True)\n",
    "plt.title(r\"ELU activation function ($\\alpha=1$)\", fontsize=14)\n",
    "plt.axis([-5, 5, -2.2, 3.2])\n",
    "plt.show()"
   ]
  },
  {
   "cell_type": "markdown",
   "id": "1eb40340",
   "metadata": {},
   "source": [
    "output range of ELU activation function = (-1,+inf)"
   ]
  },
  {
   "cell_type": "markdown",
   "id": "af240ada",
   "metadata": {},
   "source": [
    "Plot the gradient of ELU function"
   ]
  },
  {
   "cell_type": "code",
   "execution_count": 4,
   "id": "137ca247",
   "metadata": {},
   "outputs": [
    {
     "data": {
      "image/png": "[encoded data removed]",
      "text/plain": [
       "<Figure size 640x480 with 1 Axes>"
      ]
     },
     "metadata": {},
     "output_type": "display_data"
    }
   ],
   "source": [
    "z = np.linspace(-5, 5, 200)\n",
    "with tf.GradientTape(persistent=True) as g:\n",
    "    x = tf.Variable(z)\n",
    "    y = elu(x)\n",
    "grads = g.gradient(y,x)\n",
    "plt.plot(z, grads.numpy(), \"b-\", linewidth=2)\n",
    "plt.plot([-5, 5], [0, 0], 'k-')\n",
    "plt.plot([0, 0], [-5, 5], 'k-')\n",
    "plt.grid(True)\n",
    "plt.title(r\"Derivative of ELU\", fontsize=14)\n",
    "plt.axis([-5, 5, min(grads.numpy())- 1E-2, max(grads.numpy()) + 1E-2])\n",
    "plt.show()"
   ]
  },
  {
   "cell_type": "markdown",
   "id": "6786bfed",
   "metadata": {},
   "source": [
    "Swish Activation function\n",
    "\n",
    "Research paper: \"Swish: A Self-Gated Activation Function\" by Prajit Ramachandran, Barret Zoph, and Quoc V. Le (2017).\n",
    "\n",
    "Motivation: The author's quest to identify an activation function that blends sigmoid or tanh's smoothness and differentiability with ReLU's quick convergence served as their driving force. It was suggested that Swish self-gate its production, potentially making it more durable than ReLU. The Swish function may learn the best activation for a particular input during training thanks to this self-gating mechanism, which increases learning effectiveness.\n",
    "\n",
    "Advantages: \n",
    "On a variety of deep learning tasks, such as image classification and natural language processing, Swish has been demonstrated to outperform ReLU. It is a valuable alternative activation function because it reduces the problems of dead neurons and vanishing gradients, improving training effectiveness."
   ]
  },
  {
   "cell_type": "markdown",
   "id": "a3014e78",
   "metadata": {},
   "source": [
    "Parametric Rectified Linear Unit (PreLU)\n",
    "\n",
    "Research paper: \"Delving Deep into Rectifiers: Surpassing Human-Level Performance on ImageNet Classification\" by Kaiming He, Xiangyu Zhang, Shaoqing Ren, and Jian Sun (2015).\n",
    "\n",
    "Motivation:\n",
    "To overcome the drawback of classic ReLU units, which can experience the \"dying ReLU\" issue, where neurons may become dormant during training, PReLU was developed. Better feature learning and the prevention of dying ReLUs are both made possible by PReLU, which enables the learning of the slope of the activation function during training.\n",
    "\n",
    "Advantages:\n",
    "By reducing the drawbacks of ReLU, PReLU has been shown to reliably enhance the training of deep neural networks. It adapts a slope for every neuron that it learns, making it appropriate for networks with various activation patterns. In order to increase model accuracy and convergence speed, PReLU has been notably successful in convolutional neural networks (CNNs) and deep architectures for image recognition."
   ]
  },
  {
   "cell_type": "markdown",
   "id": "1fec190b-a0eb-4398-8fe4-5c846a826e1c",
   "metadata": {},
   "source": [
    "### <span style=\"color:#0b486b\">Question 1.2: Feed-forward neural networks</span>\n",
    "Assume that we feed a data point $x$ with a ground-truth label $y=3$ _(with index starting from 1 as in the lecture)_ to the feed-forward neural network with the ReLU activation function at hidden layers as shown in the following figure:\n",
    "\n",
    "<img src=\"Figures/Q2_P1_S2_2023.png\" width=\"600\" align=\"center\"/>\n",
    "\n",
    "**(a)** What is the numerical value of the latent presentation $h^1(x)$\n",
    "<div style=\"text-align: right\"><span style=\"color:red\">[1 point]</span></div>\n",
    "\n",
    "**(b)** What is the numerical value of the latent presentation $h^2(x)$?\n",
    "<div style=\"text-align: right\"><span style=\"color:red\">[1 point]</span></div> \n",
    "\n",
    "**(c)** What is the numerical value of the logit $h^3(x)$?\n",
    "<div style=\"text-align: right\"><span style=\"color:red\">[1 point]</span></div>\n",
    "\n",
    "**(d)** What is the corresonding prediction probabilities $p(x)$?\n",
    "<div style=\"text-align: right\"><span style=\"color:red\">[1 point]</span></div> \n",
    "\n",
    "**(e)** What is the predicted class? Is it a correct or incorrect prediction?\n",
    "<div style=\"text-align: right\"><span style=\"color:red\">[1 point]</span></div> \n",
    "\n",
    "**(f)** What is the cross-entropy loss caused by the feed-forward neural network at $(x,y)$?\n",
    "<div style=\"text-align: right\"><span style=\"color:red\">[1 point]</span></div> \n",
    "\n",
    "**(g)** Assume that we are applying the label smoothing technique (i.e.,  [link for main paper](https://papers.nips.cc/paper/2019/file/f1748d6b0fd9d439f71450117eba2725-Paper.pdf) from Goeff Hinton) with $\\alpha = 0.1$. What is the relevant loss caused by the feed-forward neural network at $(x,y)$?\n",
    "<div style=\"text-align: right\"><span style=\"color:red\">[2 point]</span></div> \n",
    "\n",
    "\n",
    "**You need to show both formulas and numerical results for earning full mark. Although it is optional, it is great if you show your numpy code for your computation.**"
   ]
  },
  {
   "cell_type": "code",
   "execution_count": 5,
   "id": "76303174",
   "metadata": {},
   "outputs": [
    {
     "name": "stdout",
     "output_type": "stream",
     "text": [
      "[[3]\n",
      " [2]\n",
      " [4]\n",
      " [1]]\n"
     ]
    }
   ],
   "source": [
    "# (a)\n",
    "x = [[1],[-1],[0]]\n",
    "w1 = [[1, -1,1], [1, -1,-1],[2,-1,2],[-1,-2,1]]\n",
    "b1 = [[1],[0],[1],[0]]\n",
    "y1 = np.matmul(w1,x) + b1\n",
    "print(y1)"
   ]
  },
  {
   "cell_type": "code",
   "execution_count": 6,
   "id": "7bba0ba5",
   "metadata": {},
   "outputs": [
    {
     "name": "stdout",
     "output_type": "stream",
     "text": [
      "[[-2]\n",
      " [ 5]\n",
      " [ 5]]\n"
     ]
    }
   ],
   "source": [
    "# (b)\n",
    "w2 = [[1, -1,-1,2], [1, -1,1,-1],[1,2,-1,2]]\n",
    "b2 = [[-1],[1],[0]]\n",
    "y2 = np.matmul(w2,y1) + b2\n",
    "print(y2)"
   ]
  },
  {
   "cell_type": "code",
   "execution_count": 7,
   "id": "73140de9",
   "metadata": {},
   "outputs": [
    {
     "name": "stdout",
     "output_type": "stream",
     "text": [
      "tf.Tensor(\n",
      "[[-3]\n",
      " [ 1]\n",
      " [ 4]], shape=(3, 1), dtype=int32)\n"
     ]
    }
   ],
   "source": [
    "# (c)\n",
    "w3 = [[1, -2,1], [1,2,-1],[-1,1,-1]]\n",
    "b3 = [[4],[-2],[2]]\n",
    "y3 = tf.matmul(w3,y2) + b3\n",
    "print(y3)"
   ]
  },
  {
   "cell_type": "code",
   "execution_count": 8,
   "id": "5ef78e66",
   "metadata": {},
   "outputs": [
    {
     "name": "stdout",
     "output_type": "stream",
     "text": [
      "[[8.67881295e-04]\n",
      " [4.73847131e-02]\n",
      " [9.51747406e-01]]\n"
     ]
    },
    {
     "data": {
      "text/plain": [
       "array([2], dtype=int64)"
      ]
     },
     "execution_count": 8,
     "metadata": {},
     "output_type": "execute_result"
    }
   ],
   "source": [
    "# (d)\n",
    "def softmax(x):\n",
    "    \"\"\"Compute softmax values for each sets of scores in x.\"\"\"\n",
    "    return np.exp(x) / np.sum(np.exp(x), axis=0)\n",
    "s_max = softmax(y3)\n",
    "print(s_max)\n",
    "np.argmax(s_max, 0)"
   ]
  },
  {
   "cell_type": "markdown",
   "id": "043bfd69",
   "metadata": {},
   "source": [
    "(e) prediction = 3 , same with ground truth = 3. Hence, correct prediction"
   ]
  },
  {
   "cell_type": "code",
   "execution_count": 9,
   "id": "0633f712",
   "metadata": {},
   "outputs": [
    {
     "name": "stdout",
     "output_type": "stream",
     "text": [
      "[0.04945561]\n"
     ]
    }
   ],
   "source": [
    "# (f)\n",
    "y_true = [0,0,1]\n",
    "def cross_entropy(y_pred, y_true):\n",
    " \n",
    "    loss = 0\n",
    "    for i in range(len(y_pred)):\n",
    "        loss = loss + (-1 * y_true[i]*np.log(y_pred[i]))\n",
    " \n",
    "    return loss\n",
    "ce_loss = cross_entropy(s_max,y_true)\n",
    "print(ce_loss)"
   ]
  },
  {
   "cell_type": "code",
   "execution_count": 10,
   "id": "c76e1bbf",
   "metadata": {},
   "outputs": [
    {
     "data": {
      "text/plain": [
       "<tf.Tensor: shape=(3,), dtype=float64, numpy=array([2.46783344, 1.09886235, 1.98765677])>"
      ]
     },
     "execution_count": 10,
     "metadata": {},
     "output_type": "execute_result"
    }
   ],
   "source": [
    "tf.keras.losses.binary_crossentropy(\n",
    "                  y_true, s_max,\n",
    "                  from_logits=False,\n",
    "                  label_smoothing=0.1)"
   ]
  },
  {
   "cell_type": "code",
   "execution_count": 12,
   "id": "fbcfe85d",
   "metadata": {},
   "outputs": [
    {
     "name": "stdout",
     "output_type": "stream",
     "text": [
      "[0.38278894]\n"
     ]
    }
   ],
   "source": [
    "# (g)\n",
    "smth_loss = 0\n",
    "alpha = 0.1\n",
    "for i in range(len(y_true)):\n",
    "    smth_loss += -((1 - alpha)*y_true[i]+alpha/3)*np.log(s_max[i])\n",
    "print(smth_loss)"
   ]
  },
  {
   "cell_type": "markdown",
   "id": "06086408-96f0-4871-8827-0e3e2a5d0937",
   "metadata": {
    "tags": []
   },
   "source": [
    "### <span style=\"color:#0b486b\">Question 1.3: Back propagation</span>\n",
    "Assume that we are constructing a multilayered feed-forward neural network for a classification problem with three classes where the model parameters will be generated randomly using your student ID. \n",
    "\n",
    "The architecture is as follows: $3 (Input)\\rightarrow4(LeakyReLU)\\rightarrow 3(Output)$ (see figure below). Also note that the model parameters are randomly generated.\n",
    "\n",
    "<img src=\"Figures/Q3_P1_S2_2023.png\" width=\"500\" align=\"center\"/>\n",
    "\n",
    "We then feed a feature vector $x=\\left[\\begin{array}{ccc} 1 & -1 & 0\\end{array}\\right]^{T}$ with ground-truth label $y=3$ to the above network.\n",
    "\n",
    "**You need to show both formulas, numerical results, and your numpy code for your computation for earning full marks.**\n",
    "\n",
    "**(a)** Suppose that we use the cross-entropy (CE) loss. What is the value of the CE loss $l$?\n",
    "<div style=\"text-align: right\"><span style=\"color:red\">[2 point]</span></div>\n",
    "\n",
    "**(b)** What are the derivatives $\\frac{\\partial l}{\\partial h^{2}},\\frac{\\partial l}{\\partial W^{2}}$, and $\\frac{\\partial l}{\\partial b^{2}}$\n",
    "<div style=\"text-align: right\"><span style=\"color:red\">[3 points]</span></div>\n",
    "\n",
    "**(c)** What are the derivatives $\\frac{\\partial l}{\\partial h^{1}}, \\frac{\\partial l}{\\partial \\bar{h}^{1}},\\frac{\\partial l}{\\partial W^{1}}$, and $\\frac{\\partial l}{\\partial b^{1}}$? \n",
    "<div style=\"text-align: right\"><span style=\"color:red\">[3 points]</span></div>\n",
    "\n",
    "**(d)** Assume that we use SGD with learning rate $\\eta=0.01$ to update the model parameters. What are the values of $W^2, b^2$ and $W^1, b^1$ after updating?\n",
    "<div style=\"text-align: right\"><span style=\"color:red\">[2 points]</span></div>"
   ]
  },
  {
   "cell_type": "code",
   "execution_count": 13,
   "id": "7afb5a58",
   "metadata": {},
   "outputs": [
    {
     "name": "stdout",
     "output_type": "stream",
     "text": [
      "(a)\n",
      "Cross-Entropy Loss: [6.16611988]\n",
      "\n",
      "(b)\n",
      "Gradient dL/dh2: [[ 0.66792434]\n",
      " [ 0.32997629]\n",
      " [-0.99790063]]\n",
      "Gradient dL/dW2: [[ 1.03256508  0.          0.          0.90678602]\n",
      " [ 0.51012065  0.          0.          0.44798171]\n",
      " [-1.54268573 -0.         -0.         -1.35476773]]\n",
      "Gradient dL/db2: [[ 0.66792434]\n",
      " [ 0.32997629]\n",
      " [-0.99790063]]\n",
      "\n",
      "(c)\n",
      "Gradient dL/dh1: [[1.46927537]\n",
      " [0.        ]\n",
      " [0.        ]\n",
      " [2.7877524 ]]\n",
      "Gradient dL/dh-1: [[ 1.46927537]\n",
      " [-0.        ]\n",
      " [ 0.84846933]\n",
      " [ 2.7877524 ]]\n",
      "Gradient dL/dW1: [[ 1.46927537 -1.46927537  0.        ]\n",
      " [ 0.         -0.          0.        ]\n",
      " [ 0.         -0.          0.        ]\n",
      " [ 2.7877524  -2.7877524   0.        ]]\n",
      "Gradient dL/db1: [[1.46927537]\n",
      " [0.        ]\n",
      " [0.        ]\n",
      " [2.7877524 ]]\n",
      "\n",
      "(d)\n",
      "W2:\n",
      " [[ 1.10067906 -1.7708056  -0.31977003  2.12030036]\n",
      " [ 0.75735196 -0.44882111 -0.84966343  0.11555052]\n",
      " [-0.46119054 -0.58885824 -1.34524446 -1.31513007]]\n",
      "b2:\n",
      " [[-0.55641379]\n",
      " [ 2.0085613 ]\n",
      " [ 0.84676451]]\n",
      "W1:\n",
      " [[-0.90437754 -1.18680721  0.02034868]\n",
      " [ 1.58098876  1.34616827  0.55314083]\n",
      " [ 0.73436175  0.01913233  1.35424479]\n",
      " [-0.2340307  -1.27867167 -1.48574274]]\n",
      "b1:\n",
      " [[ 1.21942327]\n",
      " [-1.43132997]\n",
      " [-1.07152134]\n",
      " [ 0.22934433]]\n"
     ]
    }
   ],
   "source": [
    "# Given data\n",
    "x = np.array([[1], [-1], [0]])  # Input feature vector\n",
    "y = 3  # Ground-truth label\n",
    "\n",
    "# Initialize parameters using student ID\n",
    "np.random.seed(32637888)\n",
    "W1 = np.random.randn(4, 3)  # Layer 1 weights\n",
    "b1 = np.random.randn(4, 1)   # Layer 1 biases\n",
    "W2 = np.random.randn(3, 4)  # Layer 2 weights\n",
    "b2 = np.random.randn(3, 1)   # Layer 2 biases\n",
    "\n",
    "# Forward pass\n",
    "z1 = np.dot(W1, x) + b1  # Linear combination for Layer 1\n",
    "h1 = np.maximum(0, z1)   # ReLU activation for Layer 1\n",
    "z2 = np.dot(W2, h1) + b2  # Linear combination for Layer 2\n",
    "h2 = np.exp(z2) / np.sum(np.exp(z2))  # Softmax activation for Layer 2\n",
    "\n",
    "# Cross-entropy loss\n",
    "loss = -np.log(h2[y-1])\n",
    "\n",
    "# Backpropagation\n",
    "# Compute gradients for output layer\n",
    "d_z2 = h2\n",
    "d_z2[y-1] -= 1\n",
    "# Compute gradients for hidden layer 2\n",
    "d_W2 = np.dot(d_z2, h1.T)\n",
    "d_b2 = d_z2\n",
    "\n",
    "# Compute gradients for hidden layer 1\n",
    "d_h1 = np.dot(W2.T, d_z2)\n",
    "d_h_1 = d_h1 * (d_h1 > 0)\n",
    "d_h1[z1 <= 0] = 0    # Derivative of ReLU\n",
    "d_W1 = np.dot(d_h1, x.T)\n",
    "d_b1 = d_h1\n",
    "\n",
    "# Update parameters using SGD\n",
    "learning_rate = 0.01\n",
    "W2 -= learning_rate * d_W2\n",
    "b2 -= learning_rate * d_b2\n",
    "W1 -= learning_rate * d_W1\n",
    "b1 -= learning_rate * d_b1\n",
    "\n",
    "print(\"(a)\")\n",
    "print(\"Cross-Entropy Loss:\", loss)\n",
    "\n",
    "print(\"\\n(b)\")\n",
    "print(\"Gradient dL/dh2:\", d_z2)\n",
    "print(\"Gradient dL/dW2:\", d_W2)\n",
    "print(\"Gradient dL/db2:\", d_b2)\n",
    "\n",
    "print(\"\\n(c)\")\n",
    "print(\"Gradient dL/dh1:\", d_h1)\n",
    "print(\"Gradient dL/dh-1:\", d_h_1)\n",
    "print(\"Gradient dL/dW1:\", d_W1)\n",
    "print(\"Gradient dL/db1:\", d_b1)\n",
    "\n",
    "print(\"\\n(d)\")\n",
    "print(\"W2:\\n\", W2)\n",
    "print(\"b2:\\n\", b2)\n",
    "print(\"W1:\\n\", W1)\n",
    "print(\"b1:\\n\", b1)\n"
   ]
  },
  {
   "cell_type": "markdown",
   "id": "b2f5a6f6-0a8f-498d-ad06-a2d1063d214f",
   "metadata": {
    "tags": []
   },
   "source": [
    "### <span style=\"color:#0b486b\">Question 1.4: Optimization with gradient descent</span>\n",
    "In this question, we will take a step further to get deeper understanding about gradient descent, one of the most important optimization techniques in deep learning.\n",
    "\n",
    "**(a)** Write the pseudo-code to implement the gradient descent algorithm and explain in your words what each line of the code does.\n",
    "<div style=\"text-align: right\"><span style=\"color:red\">[2 point]</span></div>\n",
    "\n",
    "**(b)** Explain in your own words why we should update the parameters in the opposite direction of the gradient.\n",
    "<div style=\"text-align: right\"><span style=\"color:red\">[2 points]</span></div>\n"
   ]
  },
  {
   "cell_type": "markdown",
   "id": "33e1acf0",
   "metadata": {},
   "source": [
    "(a) Pseudo-code for Gradient Descent Algorithm\n",
    "\n",
    "Initialize model parameters randomly or with small values\n",
    "initialize_parameters()\n",
    "\n",
    "Set the learning rate, which controls the step size in the parameter update\n",
    "learning_rate = 0.01\n",
    "\n",
    "Set the number of iterations or epochs for training\n",
    "num_epochs = 100\n",
    "\n",
    "Loop for a fixed number of epochs\n",
    "for epoch in range(num_epochs):\n",
    "    # Forward pass: compute predictions and loss\n",
    "    predictions = forward_pass(inputs)\n",
    "    loss = compute_loss(predictions, ground_truth_labels)\n",
    "    # Backward pass: compute gradients\n",
    "    gradients = backward_pass(loss)\n",
    "    # Update model parameters using gradients and learning rate\n",
    "    update_parameters(gradients, learning_rate)\n",
    "\n",
    "Training is complete"
   ]
  },
  {
   "cell_type": "markdown",
   "id": "600f6227",
   "metadata": {},
   "source": [
    "(b) \n",
    "    A crucial idea in gradient descent is updating the parameters in the gradient's opposite direction. The foundation of this strategy is the notion of minimising a loss function.\n",
    "\n",
    "   The gradient of a function at a particular point indicates the direction of the steepest ascent or increase of the function. The loss function illustrates how far the predictions of the model are from the actual values when a neural network is being trained. In order to minimise this loss, one must move in the direction of loss reduction.\n",
    "\n",
    "   Minimization of Loss Function: When developing a model, we essentially look for the parameters that will result in the smallest feasible loss function value. Since the gradient points in the direction of the steepest ascent, in order to do this, we must travel in the direction that is opposite to the gradient.\n",
    "\n",
    "   Descending Along the Gradient: We can \"descend\" the loss landscape by updating the parameters in the gradient's opposite direction. Imagine the loss landscape as a surface with peaks and valleys, with peaks representing significant loss and valleys representing low loss. In the loss landscape, going in the opposite direction of the gradient is equivalent to moving downward in search of the lowest point.\n",
    "\n",
    "   Convergence to Optimal Solution: The optimisation procedure iteratively refines the model's parameters by consistently updating the parameters in the direction that decreases the loss. This technique guides the model over time to converge on an ideal set of parameters that result in a minimised loss, indicating a well-fit model.\n",
    "\n",
    "   Essentially, changing the parameters in the opposite direction of the gradient is a sound method for iteratively improving the performance of a model. It's like following a downhill path to the lowest point in a landscape, where the landscape represents the loss function and the path are parameter updates."
   ]
  }
 ],
 "metadata": {
  "kernelspec": {
   "display_name": "Python 3 (ipykernel)",
   "language": "python",
   "name": "python3"
  },
  "language_info": {
   "codemirror_mode": {
    "name": "ipython",
    "version": 3
   },
   "file_extension": ".py",
   "mimetype": "text/x-python",
   "name": "python",
   "nbconvert_exporter": "python",
   "pygments_lexer": "ipython3",
   "version": "3.9.17"
  }
 },
 "nbformat": 4,
 "nbformat_minor": 5
}
